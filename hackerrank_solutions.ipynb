{
  "nbformat": 4,
  "nbformat_minor": 0,
  "metadata": {
    "colab": {
      "provenance": [],
      "authorship_tag": "ABX9TyM5X9YFyO+k2RB6brRABf9h",
      "include_colab_link": true
    },
    "kernelspec": {
      "name": "python3",
      "display_name": "Python 3"
    },
    "language_info": {
      "name": "python"
    }
  },
  "cells": [
    {
      "cell_type": "markdown",
      "metadata": {
        "id": "view-in-github",
        "colab_type": "text"
      },
      "source": [
        "<a href=\"https://colab.research.google.com/github/rubanzasilva/hackerrank_solutions/blob/main/hackerrank_solutions.ipynb\" target=\"_parent\"><img src=\"https://colab.research.google.com/assets/colab-badge.svg\" alt=\"Open In Colab\"/></a>"
      ]
    },
    {
      "cell_type": "markdown",
      "source": [
        "Min - Max sum"
      ],
      "metadata": {
        "id": "-2zpC2NgvzVW"
      }
    },
    {
      "cell_type": "code",
      "source": [
        "def miniMaxSum(arr):\n",
        "    for i in arr:\n",
        "        sorted_arr = sorted(arr)\n",
        "        print(sorted_arr)\n",
        "\n",
        "z = [1,2,3,4,5]\n",
        "print(miniMaxSum(z))\n"
      ],
      "metadata": {
        "colab": {
          "base_uri": "https://localhost:8080/"
        },
        "id": "6Pb6hbpvv2jR",
        "outputId": "1fc1c8b7-d702-487a-c591-4420d2d7f125"
      },
      "execution_count": null,
      "outputs": [
        {
          "output_type": "stream",
          "name": "stdout",
          "text": [
            "[1, 2, 3, 4, 5]\n",
            "[1, 2, 3, 4, 5]\n",
            "[1, 2, 3, 4, 5]\n",
            "[1, 2, 3, 4, 5]\n",
            "[1, 2, 3, 4, 5]\n",
            "None\n"
          ]
        }
      ]
    },
    {
      "cell_type": "code",
      "source": [
        "def miniMaxSum(arr):\n",
        "  sorted_arr = sorted(arr)\n",
        "  print(sorted_arr)\n",
        "\n",
        "z = []\n",
        "print(miniMaxSum(z))\n",
        "\n",
        "x = z[:4]\n",
        "y = z[1:5]\n",
        "\n",
        "print(sum(z), end=\" \")\n",
        "print(sum(x))\n",
        "\n",
        "#return the 4 smallest numbers from index [0:4]\n",
        "#return the 4 largest numbers from index [1:5]\n"
      ],
      "metadata": {
        "colab": {
          "base_uri": "https://localhost:8080/"
        },
        "id": "W1i8Mcrr0GrF",
        "outputId": "ee752223-1984-49ec-dc4f-bcd28e535539"
      },
      "execution_count": null,
      "outputs": [
        {
          "output_type": "stream",
          "name": "stdout",
          "text": [
            "[1, 2, 3, 4, 5]\n",
            "None\n",
            "15 10\n"
          ]
        }
      ]
    },
    {
      "cell_type": "code",
      "source": [
        "sum(x)"
      ],
      "metadata": {
        "colab": {
          "base_uri": "https://localhost:8080/"
        },
        "id": "0r9xUhlD1rJG",
        "outputId": "eaf6c435-b54a-4801-b471-064168e0e0b2"
      },
      "execution_count": null,
      "outputs": [
        {
          "output_type": "execute_result",
          "data": {
            "text/plain": [
              "10"
            ]
          },
          "metadata": {},
          "execution_count": 9
        }
      ]
    },
    {
      "cell_type": "code",
      "source": [
        "          #!/bin/python3\n",
        "\n",
        "import math\n",
        "import os\n",
        "import random\n",
        "import re\n",
        "import sys\n",
        "\n",
        "#\n",
        "# Complete the 'miniMaxSum' function below.\n",
        "#\n",
        "# The function accepts INTEGER_ARRAY arr as parameter.\n",
        "#\n",
        "\n",
        "def miniMaxSum(arr):\n",
        "  sorted_arr = sorted(arr)\n",
        "  return(sorted_arr)\n",
        "  x = arr[:-1]\n",
        "  y = arr[1:]\n",
        "  print(sum(y), end=\" \")\n",
        "  print(sum(x))  # Write your code here\n",
        "\n",
        "if __name__ == '__main__':\n",
        "\n",
        "    arr = list(map(int, input().rstrip().split()))\n",
        "\n",
        "    miniMaxSum(arr)\n"
      ],
      "metadata": {
        "colab": {
          "base_uri": "https://localhost:8080/"
        },
        "id": "tocZqqIuv2lo",
        "outputId": "7999bf00-d8b2-459f-8f99-d301c930be8a"
      },
      "execution_count": 8,
      "outputs": [
        {
          "name": "stdout",
          "output_type": "stream",
          "text": [
            "12345\n"
          ]
        }
      ]
    },
    {
      "cell_type": "code",
      "source": [
        "def miniMaxSum(arr):\n",
        "    # Sort the array in ascending order\n",
        "    sorted_arr = sorted(arr)\n",
        "    print(\"Sorted Array:\", sorted_arr)\n",
        "\n",
        "    # Calculate the minimum sum by summing all elements except the last (largest)\n",
        "    min_sum = sum(sorted_arr[:-1])\n",
        "\n",
        "    # Calculate the maximum sum by summing all elements except the first (smallest)\n",
        "    max_sum = sum(sorted_arr[1:])\n",
        "\n",
        "    return min_sum, max_sum\n"
      ],
      "metadata": {
        "id": "KstHT33Zv2dR"
      },
      "execution_count": 6,
      "outputs": []
    },
    {
      "cell_type": "code",
      "source": [
        "miniMaxSum([1,2,3,4,5])"
      ],
      "metadata": {
        "colab": {
          "base_uri": "https://localhost:8080/"
        },
        "id": "w5F36lcKKPXO",
        "outputId": "48a7ebc5-07e8-45d9-9f6f-ec4b973740b9"
      },
      "execution_count": 7,
      "outputs": [
        {
          "output_type": "stream",
          "name": "stdout",
          "text": [
            "Sorted Array: [1, 2, 3, 4, 5]\n"
          ]
        },
        {
          "output_type": "execute_result",
          "data": {
            "text/plain": [
              "(10, 14)"
            ]
          },
          "metadata": {},
          "execution_count": 7
        }
      ]
    },
    {
      "cell_type": "code",
      "source": [
        "def miniMaxSum(arr):\n",
        "    # Sort the array in ascending order\n",
        "    sorted_arr = sorted(arr)\n",
        "    print(\"Sorted Array:\", sorted_arr)\n",
        "\n",
        "    # Calculate the minimum sum by summing all elements except the last (largest)\n",
        "    min_sum = sum(sorted_arr[:-1])\n",
        "\n",
        "    # Calculate the maximum sum by summing all elements except the first (smallest)\n",
        "    max_sum = sum(sorted_arr[1:])\n",
        "\n",
        "    return min_sum, max_sum\n",
        "\n",
        "# Example usage\n",
        "z = [1, 2, 3, 4, 5]\n",
        "min_sum, max_sum = miniMaxSum(z)\n",
        "print(\"Minimum Sum:\", min_sum)\n",
        "print(\"Maximum Sum:\", max_sum)\n"
      ],
      "metadata": {
        "id": "s9drSdDbK2XS"
      },
      "execution_count": null,
      "outputs": []
    },
    {
      "cell_type": "markdown",
      "source": [
        "Positive Number ratio"
      ],
      "metadata": {
        "id": "EQha_c3RlTyC"
      }
    },
    {
      "cell_type": "code",
      "source": [
        "#!/bin/python3\n",
        "\n",
        "import math\n",
        "import os\n",
        "import random\n",
        "import re\n",
        "import sys\n",
        "\n",
        "#\n",
        "# Complete the 'plusMinus' function below.\n",
        "#\n",
        "# The function accepts INTEGER_ARRAY arr as parameter.\n",
        "#\n",
        "\n",
        "\n",
        "def plusMinus(arr):\n",
        "  pos_count = neg_count = zero_count = 0\n",
        "\n",
        "  for i in arr:\n",
        "    if i > 0:\n",
        "      pos_count += 1\n",
        "    elif i < 0:\n",
        "      neg_count += 1\n",
        "    elif i==0:\n",
        "      zero_count += 1\n",
        "\n",
        "  total_count = (pos_count + neg_count + zero_count)\n",
        "  pos_avg = (pos_count/total_count)\n",
        "  neg_avg = (neg_count/total_count)\n",
        "  zero_avg = (zero_count/total_count)\n",
        "  print(f\"{pos_avg:.6f}\")\n",
        "  print(f\"{neg_avg:.6f}\")\n",
        "  print(f\"{zero_avg:.6f}\")\n",
        "\n",
        "\n",
        "\n",
        "    # Write your code here\n",
        "\n",
        "if __name__ == '__main__':\n",
        "    n = int(input().strip())\n",
        "\n",
        "    arr = list(map(int, input().rstrip().split()))\n",
        "\n",
        "    plusMinus(arr)\n"
      ],
      "metadata": {
        "colab": {
          "base_uri": "https://localhost:8080/"
        },
        "id": "UOWdE_A5lWkV",
        "outputId": "514e1279-3fad-4c2d-dfb6-b021827e5ec8"
      },
      "execution_count": null,
      "outputs": [
        {
          "output_type": "stream",
          "name": "stdout",
          "text": [
            "5\n",
            "0 0 -1 1 1\n",
            "0.400000\n",
            "0.200000\n",
            "0.400000\n"
          ]
        }
      ]
    },
    {
      "cell_type": "code",
      "source": [
        "#!/bin/python3\n",
        "\n",
        "import math\n",
        "import os\n",
        "import random\n",
        "import re\n",
        "import sys\n",
        "\n",
        "def plusMinus(arr):\n",
        "    pos_count = 0\n",
        "    neg_count = 0\n",
        "    zero_count = 0\n",
        "\n",
        "    for i in arr:\n",
        "        if i > 0:\n",
        "            pos_count += 1\n",
        "        elif i < 0:\n",
        "            neg_count += 1\n",
        "        elif i == 0:  # Corrected the syntax error here\n",
        "            zero_count += 1\n",
        "\n",
        "    total_count = (pos_count + neg_count + zero_count)\n",
        "    pos_avg = (pos_count/total_count) if total_count!= 0 else 0\n",
        "    neg_avg = (neg_count/total_count) if total_count!= 0 else 0\n",
        "    zero_avg = (zero_count/total_count) if total_count!= 0 else 0\n",
        "\n",
        "    print(f\"{pos_avg:.6f}\\n{neg_avg:.6f}\\n{zero_avg:.6f}\")\n",
        "\n",
        "if __name__ == '__main__':\n",
        "    n = int(input().strip())\n",
        "    arr = list(map(int, input().rstrip().split()))\n",
        "    plusMinus(arr)\n"
      ],
      "metadata": {
        "id": "odr9H3filWhP",
        "colab": {
          "base_uri": "https://localhost:8080/"
        },
        "outputId": "549083f3-83fa-4f15-e666-6ecf153d8cea"
      },
      "execution_count": null,
      "outputs": [
        {
          "output_type": "stream",
          "name": "stdout",
          "text": [
            "453\n",
            "-2\n",
            "0.000000\n",
            "1.000000\n",
            "0.000000\n"
          ]
        }
      ]
    },
    {
      "cell_type": "code",
      "source": [],
      "metadata": {
        "id": "YyDpH_kJlWaA"
      },
      "execution_count": null,
      "outputs": []
    },
    {
      "cell_type": "markdown",
      "source": [
        "Capitalize"
      ],
      "metadata": {
        "id": "bw6MEt-gDc6k"
      }
    },
    {
      "cell_type": "code",
      "source": [
        "#import string\n",
        "\n",
        "def solve(s):\n",
        "    if 0 < len(s) < 1000:\n",
        "      return s.title()\n",
        "\n"
      ],
      "metadata": {
        "id": "rdzH7-avEqq8"
      },
      "execution_count": null,
      "outputs": []
    },
    {
      "cell_type": "code",
      "source": [
        "solve('1 w 2 r 3g')"
      ],
      "metadata": {
        "colab": {
          "base_uri": "https://localhost:8080/",
          "height": 36
        },
        "id": "aLsekuZgEu5O",
        "outputId": "75b90ca7-3dfd-445e-a4aa-05b35061fd67"
      },
      "execution_count": null,
      "outputs": [
        {
          "output_type": "execute_result",
          "data": {
            "text/plain": [
              "'1 W 2 R 3g'"
            ],
            "application/vnd.google.colaboratory.intrinsic+json": {
              "type": "string"
            }
          },
          "metadata": {},
          "execution_count": 19
        }
      ]
    },
    {
      "cell_type": "code",
      "source": [
        " import string\n",
        "\n",
        "def solve(s):\n",
        "  words = s.split()\n",
        "  s = ' '.join(word.capitalize() for word in words)\n",
        "  return s\n",
        "\n",
        "solve('132 456 Wq  m e')"
      ],
      "metadata": {
        "colab": {
          "base_uri": "https://localhost:8080/",
          "height": 36
        },
        "id": "It22PcsgDdK1",
        "outputId": "086d84d7-4af7-4e64-84ec-28ee8d6802dc"
      },
      "execution_count": null,
      "outputs": [
        {
          "output_type": "execute_result",
          "data": {
            "text/plain": [
              "'132 456 Wq M E'"
            ],
            "application/vnd.google.colaboratory.intrinsic+json": {
              "type": "string"
            }
          },
          "metadata": {},
          "execution_count": 21
        }
      ]
    },
    {
      "cell_type": "code",
      "source": [
        "def solve(s):\n",
        "    # Split the full name into words\n",
        "    words = s.split()\n",
        "\n",
        "    # Capitalize each word and join them back together\n",
        "    solve = ' '.join(word.capitalize() for word in words)\n",
        "\n",
        "    return solve"
      ],
      "metadata": {
        "id": "DYysLuxKa_2o"
      },
      "execution_count": null,
      "outputs": []
    },
    {
      "cell_type": "markdown",
      "source": [
        "collections.Counter()"
      ],
      "metadata": {
        "id": "w_XSG3kzt-It"
      }
    },
    {
      "cell_type": "code",
      "source": [
        "# Enter your code here. Read input from STDIN. Print output to STDOUT\n",
        "\n",
        "shoe_number = int(input(\"Enter the number of shoes\"))\n",
        "shoe_sizes = list(map(int,input(\"Enter the different shoe sizes\").split()))"
      ],
      "metadata": {
        "colab": {
          "base_uri": "https://localhost:8080/"
        },
        "id": "IW1pH6WAuueR",
        "outputId": "d4bee7c2-1768-4fbf-eca1-7a20fea64191"
      },
      "execution_count": null,
      "outputs": [
        {
          "name": "stdout",
          "output_type": "stream",
          "text": [
            "Enter the number of shoes10\n",
            "Enter the different shoe sizes2 3 4 5 6 8 7 6 5 18\n"
          ]
        }
      ]
    },
    {
      "cell_type": "code",
      "source": [
        "shoe_sizes"
      ],
      "metadata": {
        "colab": {
          "base_uri": "https://localhost:8080/"
        },
        "id": "73Lmj-RbuuZh",
        "outputId": "ae0e4350-c39c-466e-b7ff-92f9b635d3ff"
      },
      "execution_count": null,
      "outputs": [
        {
          "output_type": "execute_result",
          "data": {
            "text/plain": [
              "[2, 3, 4, 5, 6, 8, 7, 6, 5, 18]"
            ]
          },
          "metadata": {},
          "execution_count": 24
        }
      ]
    },
    {
      "cell_type": "code",
      "source": [
        "# Step 1: Read the number of shoes and the list of shoe sizes\n",
        "num_shoes = int(input())\n",
        "shoe_sizes = list(map(int, input().split()))\n",
        "\n",
        "# Step 2: Read the number of customers and their desired shoe sizes and prices\n",
        "num_customers = int(input())\n",
        "total_earnings = 0\n",
        "\n",
        "for _ in range(num_customers):\n",
        "    # Step 3: Check if the desired shoe size is available\n",
        "    desired_size, price = map(int, input().split())\n",
        "    if desired_size in shoe_sizes:\n",
        "        # Step 4: Add the price to total earnings\n",
        "        total_earnings += price\n",
        "\n",
        "# Step 5: Print the total earnings\n",
        "print(total_earnings)\n"
      ],
      "metadata": {
        "colab": {
          "base_uri": "https://localhost:8080/"
        },
        "id": "STfGTdK8zLNX",
        "outputId": "00e08e95-cb10-4c07-8a0a-38dce05042ae"
      },
      "execution_count": null,
      "outputs": [
        {
          "output_type": "stream",
          "name": "stdout",
          "text": [
            "10\n",
            "2 3 4 5 6 8 7 6 5 18\n",
            "6\n",
            "6 55\n",
            "6 45\n",
            "6 55\n",
            "4 40\n",
            "18 60\n",
            "10 50\n",
            "255\n"
          ]
        }
      ]
    },
    {
      "cell_type": "code",
      "source": [
        "# Enter your code here. Read input from STDIN. Print output to STDOUT\n",
        "\n",
        "shoe_number = int(input(\"Enter the number of shoes\"))\n",
        "shoe_sizes = list(map(int,input(\"Enter the different shoe sizes\").split()))\n",
        "number_customers = int(input(\"Enter the number of customers\"))\n",
        "desired_shoe_size,price = map(int,input(\"Enter the shoe size and price\"))\n",
        "\n",
        "for i in number_customer:\n",
        "    if desired_shoe_size in shoe_sizes:\n",
        "        total_earnings += price\n",
        "        print(total_earnings)\n"
      ],
      "metadata": {
        "colab": {
          "base_uri": "https://localhost:8080/",
          "height": 280
        },
        "id": "TVk04qQpuuTX",
        "outputId": "377b1040-230b-477c-cc11-e91986b13ccb"
      },
      "execution_count": null,
      "outputs": [
        {
          "name": "stdout",
          "output_type": "stream",
          "text": [
            "Enter the number of shoes10\n",
            "Enter the different shoe sizes2 3 4 5 6 8 7 6 5 18\n",
            "Enter the number of customers6\n",
            "Enter the shoe size and price6 55\n"
          ]
        },
        {
          "output_type": "error",
          "ename": "ValueError",
          "evalue": "invalid literal for int() with base 10: ' '",
          "traceback": [
            "\u001b[0;31m---------------------------------------------------------------------------\u001b[0m",
            "\u001b[0;31mValueError\u001b[0m                                Traceback (most recent call last)",
            "\u001b[0;32m<ipython-input-26-deba34f2147f>\u001b[0m in \u001b[0;36m<cell line: 6>\u001b[0;34m()\u001b[0m\n\u001b[1;32m      4\u001b[0m \u001b[0mshoe_sizes\u001b[0m \u001b[0;34m=\u001b[0m \u001b[0mlist\u001b[0m\u001b[0;34m(\u001b[0m\u001b[0mmap\u001b[0m\u001b[0;34m(\u001b[0m\u001b[0mint\u001b[0m\u001b[0;34m,\u001b[0m\u001b[0minput\u001b[0m\u001b[0;34m(\u001b[0m\u001b[0;34m\"Enter the different shoe sizes\"\u001b[0m\u001b[0;34m)\u001b[0m\u001b[0;34m.\u001b[0m\u001b[0msplit\u001b[0m\u001b[0;34m(\u001b[0m\u001b[0;34m)\u001b[0m\u001b[0;34m)\u001b[0m\u001b[0;34m)\u001b[0m\u001b[0;34m\u001b[0m\u001b[0;34m\u001b[0m\u001b[0m\n\u001b[1;32m      5\u001b[0m \u001b[0mnumber_customers\u001b[0m \u001b[0;34m=\u001b[0m \u001b[0mint\u001b[0m\u001b[0;34m(\u001b[0m\u001b[0minput\u001b[0m\u001b[0;34m(\u001b[0m\u001b[0;34m\"Enter the number of customers\"\u001b[0m\u001b[0;34m)\u001b[0m\u001b[0;34m)\u001b[0m\u001b[0;34m\u001b[0m\u001b[0;34m\u001b[0m\u001b[0m\n\u001b[0;32m----> 6\u001b[0;31m \u001b[0mdesired_shoe_size\u001b[0m\u001b[0;34m,\u001b[0m\u001b[0mprice\u001b[0m \u001b[0;34m=\u001b[0m \u001b[0mmap\u001b[0m\u001b[0;34m(\u001b[0m\u001b[0mint\u001b[0m\u001b[0;34m,\u001b[0m\u001b[0minput\u001b[0m\u001b[0;34m(\u001b[0m\u001b[0;34m\"Enter the shoe size and price\"\u001b[0m\u001b[0;34m)\u001b[0m\u001b[0;34m)\u001b[0m\u001b[0;34m\u001b[0m\u001b[0;34m\u001b[0m\u001b[0m\n\u001b[0m\u001b[1;32m      7\u001b[0m \u001b[0;34m\u001b[0m\u001b[0m\n\u001b[1;32m      8\u001b[0m \u001b[0;32mfor\u001b[0m \u001b[0mi\u001b[0m \u001b[0;32min\u001b[0m \u001b[0mnumber_customer\u001b[0m\u001b[0;34m:\u001b[0m\u001b[0;34m\u001b[0m\u001b[0;34m\u001b[0m\u001b[0m\n",
            "\u001b[0;31mValueError\u001b[0m: invalid literal for int() with base 10: ' '"
          ]
        }
      ]
    },
    {
      "cell_type": "markdown",
      "source": [
        "Nested List"
      ],
      "metadata": {
        "id": "QmzpKyYw3xK7"
      }
    },
    {
      "cell_type": "code",
      "source": [
        "#create empty score\n",
        "score_list = {}\n",
        "\n",
        "#take in user input for range\n",
        "#take in user input for name and scores\n",
        "#populate the score list with key and value pairs for scores and names\n",
        "for i in range(int(input())):\n",
        "  name = input()\n",
        "  scores = float(input())\n",
        "\n",
        "  if scores in score_list:\n",
        "    score_list[scores].append(name)\n",
        "\n",
        "  else:\n",
        "    score_list[scores] = [name]\n",
        "\n",
        "\n",
        "#create a new list\n",
        "new_list = []\n",
        "\n",
        "#add scores and score_list to new_list\n",
        "for i in score_list:\n",
        "  new_list.append([i,score_list[i]])\n",
        "\n",
        "new_list.sort()\n",
        "runner_up = [names[1] for names in new_list]\n",
        "results = runner_up[1]\n",
        "results.sort()\n",
        "print(*results, sep = \"\\n\")\n",
        "#print(\"The second lowest grade belongs to \",*results, sep = \"\\n\")\n"
      ],
      "metadata": {
        "id": "UM1Gv2jU3w5x"
      },
      "execution_count": null,
      "outputs": []
    },
    {
      "cell_type": "markdown",
      "source": [
        "Find the percentage\n",
        "\n",
        "In name , *line = int(input()) name read in a variable,\n",
        "\n",
        "Here name gets assigned a word and the rest are assigned to line.input.split() takes in input from the user and splits it into a list of word.\n",
        "\n",
        "The * is used to capture the rest of the words after the first one.\n",
        "\n",
        "which allows us to assign multiple variables from a tuple at once."
      ],
      "metadata": {
        "id": "fxKKHEmn30jC"
      }
    },
    {
      "cell_type": "code",
      "source": [
        "if __name__ == '__main__':\n",
        "    n = int(input())\n",
        "    student_marks = {}\n",
        "    for _ in range(n):\n",
        "        name, *line = input().split()\n",
        "        scores = list(map(float, line))\n",
        "        student_marks[name] = scores\n",
        "    query_name = input()\n",
        "    print(\"{:.2f}\".format((sum(student_marks[query_name])/3)))\n"
      ],
      "metadata": {
        "id": "kstWbMj234HN"
      },
      "execution_count": null,
      "outputs": []
    },
    {
      "cell_type": "code",
      "source": [
        "average_marks = (sum(student_marks[query_name])/3)\n",
        "average_marks"
      ],
      "metadata": {
        "id": "KEApgdoD4DdM"
      },
      "execution_count": null,
      "outputs": []
    },
    {
      "cell_type": "code",
      "source": [
        "print(\"{:.2f}\".format(average_marks)), print(sum(student_marks[query_name])/3)\n",
        "\n",
        "queried_student_marks = student_marks['silva']"
      ],
      "metadata": {
        "id": "hU0BoCBh4DZl"
      },
      "execution_count": null,
      "outputs": []
    },
    {
      "cell_type": "code",
      "source": [],
      "metadata": {
        "id": "wf-OxLJd4DWN"
      },
      "execution_count": null,
      "outputs": []
    },
    {
      "cell_type": "code",
      "source": [],
      "metadata": {
        "id": "E--Sj2214DTX"
      },
      "execution_count": null,
      "outputs": []
    },
    {
      "cell_type": "code",
      "source": [],
      "metadata": {
        "id": "jpM6Vc5M4DQc"
      },
      "execution_count": null,
      "outputs": []
    },
    {
      "cell_type": "code",
      "source": [
        "import sys"
      ],
      "metadata": {
        "id": "_Du4PM9B_x0k"
      },
      "execution_count": null,
      "outputs": []
    },
    {
      "cell_type": "code",
      "execution_count": null,
      "metadata": {
        "id": "H6nPJEOx_IHr"
      },
      "outputs": [],
      "source": [
        "input_line = sys.stdin.readline().strip()"
      ]
    },
    {
      "cell_type": "code",
      "source": [
        "print(input_line)"
      ],
      "metadata": {
        "colab": {
          "base_uri": "https://localhost:8080/"
        },
        "id": "UFast5il_sQH",
        "outputId": "b0e07312-c404-4320-b0a0-35f705c979be"
      },
      "execution_count": null,
      "outputs": [
        {
          "output_type": "stream",
          "name": "stdout",
          "text": [
            "\n"
          ]
        }
      ]
    },
    {
      "cell_type": "code",
      "source": [
        "import sys\n",
        "\n",
        "# Read a line from STDIN\n",
        "input_line = sys.stdin.readline().strip()\n",
        "\n",
        "# Print the input line to STDOUT\n",
        "print(input_line)\n"
      ],
      "metadata": {
        "colab": {
          "base_uri": "https://localhost:8080/"
        },
        "id": "i-o_OGGAATHN",
        "outputId": "b4d70872-f7ae-44dc-c1f0-e3ef8c7d3f73"
      },
      "execution_count": null,
      "outputs": [
        {
          "output_type": "stream",
          "name": "stdout",
          "text": [
            "\n"
          ]
        }
      ]
    },
    {
      "cell_type": "code",
      "source": [
        "output_line = sys.stdout.write(\"Hello\")"
      ],
      "metadata": {
        "colab": {
          "base_uri": "https://localhost:8080/"
        },
        "id": "izzYhhiCAXK0",
        "outputId": "89e308e1-d04b-4bae-c6de-ef7aa6fbaaf9"
      },
      "execution_count": null,
      "outputs": [
        {
          "output_type": "stream",
          "name": "stdout",
          "text": [
            "Hello"
          ]
        }
      ]
    },
    {
      "cell_type": "code",
      "source": [
        "input_line = sys.stdin.readline().strip()\n",
        "print(\"You entered: \", input_line)"
      ],
      "metadata": {
        "colab": {
          "base_uri": "https://localhost:8080/"
        },
        "id": "bCpucFw4BSK7",
        "outputId": "5f7faa4a-af61-4854-e2b4-a187b081b400"
      },
      "execution_count": null,
      "outputs": [
        {
          "output_type": "stream",
          "name": "stdout",
          "text": [
            "You entered:  \n"
          ]
        }
      ]
    },
    {
      "cell_type": "code",
      "source": [
        "import sys\n",
        "\n",
        "# Read integers from STDIN\n",
        "numbers = list(map(int, sys.stdin.readline().strip().split()))\n",
        "\n",
        "# Print integers to STDOUT\n",
        "for number in numbers:\n",
        "    sys.stdout.write(str(number) + \"\\n\")\n"
      ],
      "metadata": {
        "id": "HsIi0wTkBiBI"
      },
      "execution_count": null,
      "outputs": []
    },
    {
      "cell_type": "markdown",
      "source": [
        "Text Wrap"
      ],
      "metadata": {
        "id": "EFzjxmiUIHpY"
      }
    },
    {
      "cell_type": "code",
      "source": [
        "import textwrap\n",
        "\n",
        "# Define a long paragraph of text\n",
        "text = \"This is a very long paragraph that we will wrap to a maximum width of  50 characters per line.\"\n",
        "\n",
        "# Create a TextWrapper object with a width of  50 characters\n",
        "wrapper = textwrap.TextWrapper(width=10)\n",
        "\n",
        "# Wrap the text\n",
        "wrapped_text = wrapper.wrap(text)\n",
        "\n",
        "# Print each line of the wrapped text\n",
        "for line in wrapped_text:\n",
        "    print(line)\n"
      ],
      "metadata": {
        "colab": {
          "base_uri": "https://localhost:8080/"
        },
        "id": "FwiSlgS4Ex-7",
        "outputId": "60326d6e-a9ee-4c79-e74d-a999a315dc0b"
      },
      "execution_count": null,
      "outputs": [
        {
          "output_type": "stream",
          "name": "stdout",
          "text": [
            "This is a\n",
            "very long\n",
            "paragraph\n",
            "that we\n",
            "will wrap\n",
            "to a\n",
            "maximum\n",
            "width of\n",
            "50\n",
            "characters\n",
            "per line.\n"
          ]
        }
      ]
    },
    {
      "cell_type": "code",
      "source": [
        "y = textwrap.wrap(text, width=10)"
      ],
      "metadata": {
        "id": "oEKzcrzSGG4U"
      },
      "execution_count": null,
      "outputs": []
    },
    {
      "cell_type": "code",
      "source": [
        "y"
      ],
      "metadata": {
        "colab": {
          "base_uri": "https://localhost:8080/"
        },
        "id": "L5DB7WjsGhHl",
        "outputId": "0aade32b-0a84-476e-b448-eced7b7996db"
      },
      "execution_count": null,
      "outputs": [
        {
          "output_type": "execute_result",
          "data": {
            "text/plain": [
              "['This is a',\n",
              " 'very long',\n",
              " 'paragraph',\n",
              " 'that we',\n",
              " 'will wrap',\n",
              " 'to a',\n",
              " 'maximum',\n",
              " 'width of',\n",
              " '50',\n",
              " 'characters',\n",
              " 'per line.']"
            ]
          },
          "metadata": {},
          "execution_count": 18
        }
      ]
    },
    {
      "cell_type": "code",
      "source": [
        "yx = textwrap.fill(text, width=10)\n",
        "yx"
      ],
      "metadata": {
        "colab": {
          "base_uri": "https://localhost:8080/",
          "height": 36
        },
        "id": "tHMsfejjH2Mo",
        "outputId": "8032ddd3-dc7b-49df-e997-25be8816c0fc"
      },
      "execution_count": null,
      "outputs": [
        {
          "output_type": "execute_result",
          "data": {
            "text/plain": [
              "'This is a\\nvery long\\nparagraph\\nthat we\\nwill wrap\\nto a\\nmaximum\\nwidth of\\n50\\ncharacters\\nper line.'"
            ],
            "application/vnd.google.colaboratory.intrinsic+json": {
              "type": "string"
            }
          },
          "metadata": {},
          "execution_count": 19
        }
      ]
    },
    {
      "cell_type": "code",
      "source": [
        "wrapper = textwrap.TextWrapper(width=5)"
      ],
      "metadata": {
        "id": "ojvnPzIrID19"
      },
      "execution_count": null,
      "outputs": []
    },
    {
      "cell_type": "code",
      "source": [
        "ab = wrapper.wrap(text)\n",
        "ab"
      ],
      "metadata": {
        "colab": {
          "base_uri": "https://localhost:8080/"
        },
        "id": "EsPy-2vYId75",
        "outputId": "41cc3465-65b6-48ff-9e68-6ffa8b15d9f4"
      },
      "execution_count": null,
      "outputs": [
        {
          "output_type": "execute_result",
          "data": {
            "text/plain": [
              "['This',\n",
              " 'is a',\n",
              " 'very',\n",
              " 'long ',\n",
              " 'parag',\n",
              " 'raph',\n",
              " 'that',\n",
              " 'we',\n",
              " 'will',\n",
              " 'wrap',\n",
              " 'to a ',\n",
              " 'maxim',\n",
              " 'um',\n",
              " 'width',\n",
              " 'of',\n",
              " '50 ch',\n",
              " 'aract',\n",
              " 'ers',\n",
              " 'per',\n",
              " 'line.']"
            ]
          },
          "metadata": {},
          "execution_count": 21
        }
      ]
    },
    {
      "cell_type": "code",
      "source": [
        "cd = wrapper.fill(text)"
      ],
      "metadata": {
        "id": "ueBWa1HbIkJ8"
      },
      "execution_count": null,
      "outputs": []
    },
    {
      "cell_type": "code",
      "source": [
        "cd"
      ],
      "metadata": {
        "colab": {
          "base_uri": "https://localhost:8080/",
          "height": 36
        },
        "id": "UEKZek54IotP",
        "outputId": "7405b9bf-f31d-42a3-d3f2-0117f08f496c"
      },
      "execution_count": null,
      "outputs": [
        {
          "output_type": "execute_result",
          "data": {
            "text/plain": [
              "'This\\nis a\\nvery\\nlong \\nparag\\nraph\\nthat\\nwe\\nwill\\nwrap\\nto a \\nmaxim\\num\\nwidth\\nof\\n50 ch\\naract\\ners\\nper\\nline.'"
            ],
            "application/vnd.google.colaboratory.intrinsic+json": {
              "type": "string"
            }
          },
          "metadata": {},
          "execution_count": 23
        }
      ]
    },
    {
      "cell_type": "code",
      "source": [],
      "metadata": {
        "id": "BMl3FPxhIpJZ"
      },
      "execution_count": null,
      "outputs": []
    },
    {
      "cell_type": "markdown",
      "source": [
        "Text alignment - Designer Door Mat"
      ],
      "metadata": {
        "id": "T3TVGYtjA0IQ"
      }
    },
    {
      "cell_type": "code",
      "source": [
        "width = 20"
      ],
      "metadata": {
        "id": "FOV3I53sA4uZ"
      },
      "execution_count": null,
      "outputs": []
    },
    {
      "cell_type": "code",
      "source": [
        "print('Hackerrank')"
      ],
      "metadata": {
        "colab": {
          "base_uri": "https://localhost:8080/"
        },
        "id": "WfjL6Kq-GWBb",
        "outputId": "22150788-592f-4180-8c64-936ad9396493"
      },
      "execution_count": null,
      "outputs": [
        {
          "output_type": "stream",
          "name": "stdout",
          "text": [
            "Hackerrank\n"
          ]
        }
      ]
    },
    {
      "cell_type": "code",
      "source": [
        "print('Hackerrank'.ljust(width,'-'))"
      ],
      "metadata": {
        "colab": {
          "base_uri": "https://localhost:8080/"
        },
        "id": "LZMq9bG1Bm5K",
        "outputId": "d6e6df31-aebd-426b-f45e-18d426746e83"
      },
      "execution_count": null,
      "outputs": [
        {
          "output_type": "stream",
          "name": "stdout",
          "text": [
            "Hackerrank----------\n"
          ]
        }
      ]
    },
    {
      "cell_type": "code",
      "source": [
        "print('Hackerrank'.center(width,'-'))"
      ],
      "metadata": {
        "colab": {
          "base_uri": "https://localhost:8080/"
        },
        "id": "agJQZr_iGKf-",
        "outputId": "576d078a-6db2-457c-a8df-8cee4f6588a2"
      },
      "execution_count": null,
      "outputs": [
        {
          "output_type": "stream",
          "name": "stdout",
          "text": [
            "-----Hackerrank-----\n"
          ]
        }
      ]
    },
    {
      "cell_type": "code",
      "source": [
        "n,m = map(int,input().split())"
      ],
      "metadata": {
        "colab": {
          "base_uri": "https://localhost:8080/"
        },
        "id": "ZUao4iImGjO0",
        "outputId": "d91a96a5-f801-4e6a-c141-8b5284831cc6"
      },
      "execution_count": null,
      "outputs": [
        {
          "name": "stdout",
          "output_type": "stream",
          "text": [
            "9 27\n"
          ]
        }
      ]
    },
    {
      "cell_type": "code",
      "source": [
        "s1 = '.|.'\n",
        "s2 = 'WELCOME'\n",
        "width = 27"
      ],
      "metadata": {
        "id": "AE3jyug6QJPq"
      },
      "execution_count": null,
      "outputs": []
    },
    {
      "cell_type": "code",
      "source": [
        "x1 = s1.center(width,'-')"
      ],
      "metadata": {
        "id": "GLJ0psgXQSVu"
      },
      "execution_count": null,
      "outputs": []
    },
    {
      "cell_type": "code",
      "source": [
        "(s1*((i*2)+1)).center(m,'-')"
      ],
      "metadata": {
        "colab": {
          "base_uri": "https://localhost:8080/",
          "height": 36
        },
        "id": "lQlnszFVTRy_",
        "outputId": "473942bf-b930-4b84-bc98-48dcabbd8953"
      },
      "execution_count": null,
      "outputs": [
        {
          "output_type": "execute_result",
          "data": {
            "text/plain": [
              "'------------.|.------------'"
            ],
            "application/vnd.google.colaboratory.intrinsic+json": {
              "type": "string"
            }
          },
          "metadata": {},
          "execution_count": 28
        }
      ]
    },
    {
      "cell_type": "code",
      "source": [
        "x1"
      ],
      "metadata": {
        "colab": {
          "base_uri": "https://localhost:8080/",
          "height": 36
        },
        "id": "X9cMHvgrQnGd",
        "outputId": "1e04cff6-bdf1-4db4-c4d5-a18aafac0fbb"
      },
      "execution_count": null,
      "outputs": [
        {
          "output_type": "execute_result",
          "data": {
            "text/plain": [
              "'------------.|.------------'"
            ],
            "application/vnd.google.colaboratory.intrinsic+json": {
              "type": "string"
            }
          },
          "metadata": {},
          "execution_count": 24
        }
      ]
    },
    {
      "cell_type": "code",
      "source": [
        "n1 = n//2\n",
        "n1"
      ],
      "metadata": {
        "colab": {
          "base_uri": "https://localhost:8080/"
        },
        "id": "gk5wjmj5Rio9",
        "outputId": "a4331d0d-d677-47c9-f76f-719548ca0c6b"
      },
      "execution_count": null,
      "outputs": [
        {
          "output_type": "execute_result",
          "data": {
            "text/plain": [
              "4"
            ]
          },
          "metadata": {},
          "execution_count": 25
        }
      ]
    },
    {
      "cell_type": "code",
      "source": [
        "s1"
      ],
      "metadata": {
        "colab": {
          "base_uri": "https://localhost:8080/",
          "height": 36
        },
        "id": "Gyl8HqY6UEGx",
        "outputId": "c6cb8e75-fa0d-46c4-bdd4-732167f3763b"
      },
      "execution_count": null,
      "outputs": [
        {
          "output_type": "execute_result",
          "data": {
            "text/plain": [
              "'.|.'"
            ],
            "application/vnd.google.colaboratory.intrinsic+json": {
              "type": "string"
            }
          },
          "metadata": {},
          "execution_count": 33
        }
      ]
    },
    {
      "cell_type": "code",
      "source": [
        "n,m = map(int,input().split())\n",
        "\n",
        "s1 = '.|.'\n",
        "s2 = 'WELCOME'\n",
        "width = 27\n",
        "\n",
        "for i in range(n//2):\n",
        "  print((s1*((i*2) + 1)).center(m,'-'))\n",
        "\n",
        "#2\n",
        "print(s2.center(m,'-'))\n",
        "\n",
        "#3\n",
        "for i in reversed(range(n//2)):\n",
        "  print((s1*((i*2) + 1)).center(m,'-'))"
      ],
      "metadata": {
        "colab": {
          "base_uri": "https://localhost:8080/"
        },
        "id": "Xg3S36pgRep_",
        "outputId": "2ec28217-c68c-44d0-ba49-8812fc34308f"
      },
      "execution_count": null,
      "outputs": [
        {
          "output_type": "stream",
          "name": "stdout",
          "text": [
            "9 27\n",
            "------------.|.------------\n",
            "---------.|..|..|.---------\n",
            "------.|..|..|..|..|.------\n",
            "---.|..|..|..|..|..|..|.---\n",
            "----------WELCOME----------\n",
            "---.|..|..|..|..|..|..|.---\n",
            "------.|..|..|..|..|.------\n",
            "---------.|..|..|.---------\n",
            "------------.|.------------\n"
          ]
        }
      ]
    },
    {
      "cell_type": "code",
      "source": [
        "sequence = ['1','2','3']\n",
        "sequence2 = [1,2,3]"
      ],
      "metadata": {
        "id": "yc1KUTa5YZBp"
      },
      "execution_count": null,
      "outputs": []
    },
    {
      "cell_type": "code",
      "source": [
        "rev_sequence = reversed(sequence)\n",
        "print(rev_sequence)"
      ],
      "metadata": {
        "colab": {
          "base_uri": "https://localhost:8080/"
        },
        "id": "lPJ0Cwb8Yhu5",
        "outputId": "51146df2-785c-4e76-af04-fc95628629b5"
      },
      "execution_count": null,
      "outputs": [
        {
          "output_type": "stream",
          "name": "stdout",
          "text": [
            "<list_reverseiterator object at 0x7f1c3e96b340>\n"
          ]
        }
      ]
    },
    {
      "cell_type": "code",
      "source": [
        "rev_sequence2 = reversed(sequence2)\n",
        "print(rev_sequence2)"
      ],
      "metadata": {
        "colab": {
          "base_uri": "https://localhost:8080/"
        },
        "id": "xftSE6doYqgw",
        "outputId": "d77877b6-cfe7-4e8c-b271-ad891cad7870"
      },
      "execution_count": null,
      "outputs": [
        {
          "output_type": "stream",
          "name": "stdout",
          "text": [
            "<list_reverseiterator object at 0x7f1c3e96a710>\n"
          ]
        }
      ]
    },
    {
      "cell_type": "code",
      "source": [
        "yz = s2.center(m,'-')\n",
        "yz"
      ],
      "metadata": {
        "colab": {
          "base_uri": "https://localhost:8080/",
          "height": 36
        },
        "id": "Xpwt5t9SWRij",
        "outputId": "e42cc4fa-a27a-451a-8abb-45594b062b8c"
      },
      "execution_count": null,
      "outputs": [
        {
          "output_type": "execute_result",
          "data": {
            "text/plain": [
              "'----------WELCOME----------'"
            ],
            "application/vnd.google.colaboratory.intrinsic+json": {
              "type": "string"
            }
          },
          "metadata": {},
          "execution_count": 44
        }
      ]
    },
    {
      "cell_type": "code",
      "source": [
        "na,ma = map(int,input())\n",
        "na"
      ],
      "metadata": {
        "colab": {
          "base_uri": "https://localhost:8080/"
        },
        "id": "FpHBW_TkNlE1",
        "outputId": "0989c9e8-c904-4198-cab7-13207c34f67e"
      },
      "execution_count": null,
      "outputs": [
        {
          "name": "stdout",
          "output_type": "stream",
          "text": [
            "97\n"
          ]
        },
        {
          "output_type": "execute_result",
          "data": {
            "text/plain": [
              "9"
            ]
          },
          "metadata": {},
          "execution_count": 14
        }
      ]
    },
    {
      "cell_type": "markdown",
      "source": [
        "String Formatting\n"
      ],
      "metadata": {
        "id": "jM7AEl-qWpQz"
      }
    },
    {
      "cell_type": "markdown",
      "source": [
        "# % operator"
      ],
      "metadata": {
        "id": "I1oEE-qBZIkO"
      }
    },
    {
      "cell_type": "code",
      "source": [
        "print(\"This is the %s operator\" %'modulus' + \" for string formatting\")"
      ],
      "metadata": {
        "id": "wnU2jb0DNtJD",
        "colab": {
          "base_uri": "https://localhost:8080/"
        },
        "outputId": "33390cac-4efd-4dc7-a821-189b0c23b840"
      },
      "execution_count": null,
      "outputs": [
        {
          "output_type": "stream",
          "name": "stdout",
          "text": [
            "This is the modulus operator for string formatting\n"
          ]
        }
      ]
    },
    {
      "cell_type": "markdown",
      "source": [
        "Multiple strings with the % operator\n",
        "\n"
      ],
      "metadata": {
        "id": "-1EsY2QIZqgd"
      }
    },
    {
      "cell_type": "code",
      "source": [
        "x = 'used'\n",
        "print(\"This is the %s operator %s that is %s\" %('modulus','string formatter',x) + \" for string formatting\" )"
      ],
      "metadata": {
        "colab": {
          "base_uri": "https://localhost:8080/"
        },
        "id": "q5zV4Q5GZU9F",
        "outputId": "8e315a46-49d6-434f-c556-abb499e2e067"
      },
      "execution_count": null,
      "outputs": [
        {
          "output_type": "stream",
          "name": "stdout",
          "text": [
            "This is the modulus operator string formatter that is used for string formatting\n"
          ]
        }
      ]
    },
    {
      "cell_type": "markdown",
      "source": [
        "Precision Handling\n",
        "\n",
        "these use the format %length_of_float.no_of_decimal_placesf i.e. 5.4f\n",
        "\n",
        "\n",
        "\n"
      ],
      "metadata": {
        "id": "6jRYDKAL32xb"
      }
    },
    {
      "cell_type": "code",
      "source": [
        "print(\"The value of this float is %3.2f\" %(1.25634))"
      ],
      "metadata": {
        "colab": {
          "base_uri": "https://localhost:8080/"
        },
        "id": "HPFyJkQvZ2KP",
        "outputId": "44b4b072-ca94-485e-e591-7dfb79bcf501"
      },
      "execution_count": null,
      "outputs": [
        {
          "output_type": "stream",
          "name": "stdout",
          "text": [
            "The value of this float is 1.26\n"
          ]
        }
      ]
    },
    {
      "cell_type": "code",
      "source": [
        "print(\"The value of this float is %1.3f\" %(1.25634))"
      ],
      "metadata": {
        "colab": {
          "base_uri": "https://localhost:8080/"
        },
        "id": "qFfPDWG2kQcw",
        "outputId": "15bf8d21-e096-4d10-a368-1e4ea5078522"
      },
      "execution_count": null,
      "outputs": [
        {
          "output_type": "stream",
          "name": "stdout",
          "text": [
            "The value of this float is 1.256\n"
          ]
        }
      ]
    },
    {
      "cell_type": "markdown",
      "source": [
        "Multiple format conversion types\n",
        "\n",
        "A variable is converted to int with %d and float with %f."
      ],
      "metadata": {
        "id": "rmJF05Ux7Aqr"
      }
    },
    {
      "cell_type": "code",
      "source": [
        "y = 13\n",
        "new_y = \"y as an int is %d and %f as a float\" %(y,y)\n",
        "new_yz = \"y as an int is %d and %4.2f as a float\" %(y,y)"
      ],
      "metadata": {
        "id": "E-olaUS58cv7"
      },
      "execution_count": null,
      "outputs": []
    },
    {
      "cell_type": "code",
      "source": [
        "new_y"
      ],
      "metadata": {
        "colab": {
          "base_uri": "https://localhost:8080/",
          "height": 36
        },
        "id": "bInT0VDr8umU",
        "outputId": "39b079c0-ff3a-4951-9271-8b5fb223be6e"
      },
      "execution_count": null,
      "outputs": [
        {
          "output_type": "execute_result",
          "data": {
            "text/plain": [
              "'y as an int is 13 and 13.000000 as a float'"
            ],
            "application/vnd.google.colaboratory.intrinsic+json": {
              "type": "string"
            }
          },
          "metadata": {},
          "execution_count": 11
        }
      ]
    },
    {
      "cell_type": "code",
      "source": [
        "print(new_yz),print(new_y)"
      ],
      "metadata": {
        "colab": {
          "base_uri": "https://localhost:8080/"
        },
        "id": "0Ei54kft84TW",
        "outputId": "e51fd2b5-6751-43d6-fd0d-13941b5e0d33"
      },
      "execution_count": null,
      "outputs": [
        {
          "output_type": "stream",
          "name": "stdout",
          "text": [
            "y as an int is 13 and 13.00 as a float\n",
            "y as an int is 13 and 13.000000 as a float\n"
          ]
        },
        {
          "output_type": "execute_result",
          "data": {
            "text/plain": [
              "(None, None)"
            ]
          },
          "metadata": {},
          "execution_count": 17
        }
      ]
    },
    {
      "cell_type": "markdown",
      "source": [
        "#format method\n",
        "\n",
        " ‘String here {} then also {}’.format(‘something1′,’something2’)"
      ],
      "metadata": {
        "id": "tYUSL0aWAtvF"
      }
    },
    {
      "cell_type": "code",
      "source": [
        "\"i like {} for its ease and i use it for {} \".format('python', 'machine learning')"
      ],
      "metadata": {
        "colab": {
          "base_uri": "https://localhost:8080/",
          "height": 36
        },
        "id": "4U05N2k2h0rx",
        "outputId": "15483750-2e74-41d3-cd40-a65615dc99f9"
      },
      "execution_count": null,
      "outputs": [
        {
          "output_type": "execute_result",
          "data": {
            "text/plain": [
              "'i like python for its ease and i use it for machine learning '"
            ],
            "application/vnd.google.colaboratory.intrinsic+json": {
              "type": "string"
            }
          },
          "metadata": {},
          "execution_count": 1
        }
      ]
    },
    {
      "cell_type": "markdown",
      "source": [
        "index based insertion"
      ],
      "metadata": {
        "id": "5O5B73DHicmH"
      }
    },
    {
      "cell_type": "code",
      "source": [
        "\"{2} is for {3} as {0} is for {1} \".format('ronaldo', '7','messi','10')"
      ],
      "metadata": {
        "colab": {
          "base_uri": "https://localhost:8080/",
          "height": 36
        },
        "id": "m-QSLPhlh_15",
        "outputId": "cdfdc75b-a1ef-41cd-835e-a438b9463bdb"
      },
      "execution_count": null,
      "outputs": [
        {
          "output_type": "execute_result",
          "data": {
            "text/plain": [
              "'messi is for 10 as ronaldo is for 7 '"
            ],
            "application/vnd.google.colaboratory.intrinsic+json": {
              "type": "string"
            }
          },
          "metadata": {},
          "execution_count": 2
        }
      ]
    },
    {
      "cell_type": "markdown",
      "source": [
        "insertion by assigning keywords"
      ],
      "metadata": {
        "id": "sbOoeCaUigGE"
      }
    },
    {
      "cell_type": "code",
      "source": [
        "\"Goalkeeper is {gk}, right back is {rb}\".format(gk= 'courtoius', rb = 'carvajal', lb='mendy', cbr = 'militao', cbl='alaba' )"
      ],
      "metadata": {
        "colab": {
          "base_uri": "https://localhost:8080/",
          "height": 36
        },
        "id": "uSvT30KIiZts",
        "outputId": "7e18bbe0-949b-4960-e503-58b08cfb0249"
      },
      "execution_count": null,
      "outputs": [
        {
          "output_type": "execute_result",
          "data": {
            "text/plain": [
              "'Goalkeeper is courtoius, right back is carvajal'"
            ],
            "application/vnd.google.colaboratory.intrinsic+json": {
              "type": "string"
            }
          },
          "metadata": {},
          "execution_count": 3
        }
      ]
    },
    {
      "cell_type": "markdown",
      "source": [
        "re use inserted objects."
      ],
      "metadata": {
        "id": "ivvZM8PNjn4b"
      }
    },
    {
      "cell_type": "code",
      "source": [
        "\"Goalkeeper is {gk}, right back is {rb} but center back can also be {rb}\".format(gk= 'courtoius', rb = 'carvajal', lb='mendy', cbr = 'militao', cbl='alaba' )"
      ],
      "metadata": {
        "colab": {
          "base_uri": "https://localhost:8080/",
          "height": 36
        },
        "id": "66kI7k64jTov",
        "outputId": "f4802fce-8d8c-4e03-a799-1d330bd32e55"
      },
      "execution_count": null,
      "outputs": [
        {
          "output_type": "execute_result",
          "data": {
            "text/plain": [
              "'Goalkeeper is courtoius, right back is carvajal but center back can also be carvajal'"
            ],
            "application/vnd.google.colaboratory.intrinsic+json": {
              "type": "string"
            }
          },
          "metadata": {},
          "execution_count": 4
        }
      ]
    },
    {
      "cell_type": "code",
      "source": [
        "print('The valueof pi is: %1.5f' %3.141592)\n",
        "print('The valueof pi is: {0:1.5f}'.format(3.141592))\n"
      ],
      "metadata": {
        "id": "aCPTBy4Sj3v0"
      },
      "execution_count": null,
      "outputs": []
    },
    {
      "cell_type": "code",
      "source": [
        "print('The valueof pi is: %1.5f' %3.141592)\n",
        "print('The valueof pi is: {0:1.5f}'.format(3.141592))\n"
      ],
      "metadata": {
        "colab": {
          "base_uri": "https://localhost:8080/"
        },
        "id": "aO6qadaljmUt",
        "outputId": "69525cf8-fb03-40e2-df32-d23946e422b0"
      },
      "execution_count": null,
      "outputs": [
        {
          "output_type": "stream",
          "name": "stdout",
          "text": [
            "The valueof pi is: 3.14159\n",
            "The valueof pi is: 3.14159\n"
          ]
        }
      ]
    },
    {
      "cell_type": "markdown",
      "source": [
        "f_strings"
      ],
      "metadata": {
        "id": "lu2YL3kclJR8"
      }
    },
    {
      "cell_type": "code",
      "source": [
        "name = 'rubanza'\n",
        "f\"my name is {name}\""
      ],
      "metadata": {
        "colab": {
          "base_uri": "https://localhost:8080/",
          "height": 36
        },
        "id": "HpEMkeYClJ9B",
        "outputId": "467e3f82-487b-4960-8422-9d9a458bfa7e"
      },
      "execution_count": null,
      "outputs": [
        {
          "output_type": "execute_result",
          "data": {
            "text/plain": [
              "'my name is rubanza'"
            ],
            "application/vnd.google.colaboratory.intrinsic+json": {
              "type": "string"
            }
          },
          "metadata": {},
          "execution_count": 8
        }
      ]
    },
    {
      "cell_type": "code",
      "source": [
        "rubanza_length = 7\n",
        "#rubanza_length = len(rubanza)\n",
        "silva_length = 5\n",
        "f\"the sum of characters in my name is {1* (rubanza_length +silva_length)}\""
      ],
      "metadata": {
        "colab": {
          "base_uri": "https://localhost:8080/",
          "height": 36
        },
        "id": "5Q0jQUJblPUr",
        "outputId": "df4b4f71-8817-4377-8f03-afd5ed085709"
      },
      "execution_count": null,
      "outputs": [
        {
          "output_type": "execute_result",
          "data": {
            "text/plain": [
              "'the sum of characters in my name is 12'"
            ],
            "application/vnd.google.colaboratory.intrinsic+json": {
              "type": "string"
            }
          },
          "metadata": {},
          "execution_count": 13
        }
      ]
    },
    {
      "cell_type": "code",
      "source": [
        "#print(f\"He said his age is {(lambda x: x*2)(3)}\")\n",
        "f\"the sum of characters in my name is {(lambda a,b : a+b)(rubanza_length,silva_length)}\""
      ],
      "metadata": {
        "colab": {
          "base_uri": "https://localhost:8080/",
          "height": 36
        },
        "id": "q41BakrHm1uM",
        "outputId": "de76e04f-faa1-4374-ca69-4bb80edd4e66"
      },
      "execution_count": null,
      "outputs": [
        {
          "output_type": "execute_result",
          "data": {
            "text/plain": [
              "'the sum of characters in my name is 12'"
            ],
            "application/vnd.google.colaboratory.intrinsic+json": {
              "type": "string"
            }
          },
          "metadata": {},
          "execution_count": 19
        }
      ]
    },
    {
      "cell_type": "markdown",
      "source": [
        "float precision"
      ],
      "metadata": {
        "id": "gMGYVfY7osIw"
      }
    },
    {
      "cell_type": "code",
      "source": [
        "#Syntax: {value:{width}.{precision}}\n",
        "\"The value of this float is %1.3f\" %(1.25634)"
      ],
      "metadata": {
        "colab": {
          "base_uri": "https://localhost:8080/",
          "height": 36
        },
        "id": "DI9NVssVnh0M",
        "outputId": "9355fc7f-d0bb-4bb6-c1b5-33507fce5093"
      },
      "execution_count": null,
      "outputs": [
        {
          "output_type": "execute_result",
          "data": {
            "text/plain": [
              "'The value of this float is 1.256'"
            ],
            "application/vnd.google.colaboratory.intrinsic+json": {
              "type": "string"
            }
          },
          "metadata": {},
          "execution_count": 22
        }
      ]
    },
    {
      "cell_type": "code",
      "source": [
        "num = 1.25634\n",
        "f\"The value of this float is : {num:{1}.{2}}\"\n",
        "\n",
        "#f\"The value of this float is : {1.25634:{1}.{2}}\""
      ],
      "metadata": {
        "colab": {
          "base_uri": "https://localhost:8080/",
          "height": 36
        },
        "id": "StBGbE7rpPFJ",
        "outputId": "bb25339d-e302-433f-9e3f-30c2aa12b7e0"
      },
      "execution_count": null,
      "outputs": [
        {
          "output_type": "execute_result",
          "data": {
            "text/plain": [
              "'The value of this float is : 1.3'"
            ],
            "application/vnd.google.colaboratory.intrinsic+json": {
              "type": "string"
            }
          },
          "metadata": {},
          "execution_count": 25
        }
      ]
    },
    {
      "cell_type": "code",
      "source": [],
      "metadata": {
        "id": "u8hCAYefp4-7"
      },
      "execution_count": null,
      "outputs": []
    },
    {
      "cell_type": "markdown",
      "source": [
        "Capitalize"
      ],
      "metadata": {
        "id": "IhB-Mhay2aP-"
      }
    },
    {
      "cell_type": "code",
      "source": [
        "import string\n",
        "\n",
        "def solve(s):\n",
        "    return string.capwords(s)"
      ],
      "metadata": {
        "id": "MtNgry8r2cx8"
      },
      "execution_count": null,
      "outputs": []
    },
    {
      "cell_type": "code",
      "source": [
        "x1 = 'hello world lol'"
      ],
      "metadata": {
        "id": "8CXRJywc2tYJ"
      },
      "execution_count": null,
      "outputs": []
    },
    {
      "cell_type": "code",
      "source": [
        "print(solve(x1))"
      ],
      "metadata": {
        "colab": {
          "base_uri": "https://localhost:8080/"
        },
        "id": "OsI0n_Ug2jw1",
        "outputId": "49087808-7051-4e18-fe52-c74da56c1906"
      },
      "execution_count": null,
      "outputs": [
        {
          "output_type": "stream",
          "name": "stdout",
          "text": [
            "Hello World Lol\n"
          ]
        }
      ]
    },
    {
      "cell_type": "code",
      "source": [
        "return''.join(x.capitalize for x in raw_input().split())"
      ],
      "metadata": {
        "id": "--Csh-ql5C1e"
      },
      "execution_count": null,
      "outputs": []
    },
    {
      "cell_type": "code",
      "source": [
        "print ' '.join(word.capitalize() for word in raw_input().split(' '))"
      ],
      "metadata": {
        "id": "q2ODIV562yWn"
      },
      "execution_count": null,
      "outputs": []
    },
    {
      "cell_type": "markdown",
      "source": [
        "Lists"
      ],
      "metadata": {
        "id": "4ggCKLTtuuIP"
      }
    },
    {
      "cell_type": "code",
      "source": [
        "# Initialize an empty list\n",
        "my_list = []\n",
        "\n",
        "# Read the value of n\n",
        "n = int(input())\n",
        "\n",
        "# Iterate through each command\n",
        "for _ in range(n):\n",
        "    command = input().split()\n",
        "\n",
        "    if command[0] == 'insert':\n",
        "        # Insert integer at position i\n",
        "        my_list.insert(int(command[1]), int(command[2]))\n",
        "    elif command[0] == 'print':\n",
        "        # Print the list\n",
        "        print(my_list)\n",
        "    elif command[0] == 'remove':\n",
        "        # Delete the first occurrence of integer e\n",
        "        my_list.remove(int(command[1]))\n",
        "    elif command[0] == 'append':\n",
        "        # Insert integer e at the end of the list\n",
        "        my_list.append(int(command[1]))\n",
        "    elif command[0] == 'sort':\n",
        "        # Sort the list\n",
        "        my_list.sort()\n",
        "    elif command[0] == 'pop':\n",
        "        # Pop the last element from the list\n",
        "        my_list.pop()\n",
        "    elif command[0] == 'reverse':\n",
        "        # Reverse the list\n",
        "        my_list.reverse()\n",
        "\n",
        "# Example input and output\n",
        "# Input:\n",
        "# 5\n",
        "# insert 0 5\n",
        "# insert 1 10\n",
        "# insert 0 6\n",
        "# print\n",
        "# remove 6\n",
        "# append 9\n",
        "# append 1\n",
        "# sort\n",
        "# reverse\n",
        "# print\n",
        "\n",
        "# Output:\n",
        "# [6, 5, 10]\n",
        "# [10, 5, 1, 9]\n"
      ],
      "metadata": {
        "colab": {
          "base_uri": "https://localhost:8080/",
          "height": 391
        },
        "id": "LoqsxCCGutpt",
        "outputId": "1c4ce8c9-f060-450e-82c6-f3c23720c82f"
      },
      "execution_count": null,
      "outputs": [
        {
          "name": "stdout",
          "output_type": "stream",
          "text": [
            "5\n",
            "insert 0 5\n"
          ]
        },
        {
          "output_type": "error",
          "ename": "KeyboardInterrupt",
          "evalue": "Interrupted by user",
          "traceback": [
            "\u001b[0;31m---------------------------------------------------------------------------\u001b[0m",
            "\u001b[0;31mKeyboardInterrupt\u001b[0m                         Traceback (most recent call last)",
            "\u001b[0;32m<ipython-input-1-20ec72d5106f>\u001b[0m in \u001b[0;36m<cell line: 8>\u001b[0;34m()\u001b[0m\n\u001b[1;32m      7\u001b[0m \u001b[0;31m# Iterate through each command\u001b[0m\u001b[0;34m\u001b[0m\u001b[0;34m\u001b[0m\u001b[0m\n\u001b[1;32m      8\u001b[0m \u001b[0;32mfor\u001b[0m \u001b[0m_\u001b[0m \u001b[0;32min\u001b[0m \u001b[0mrange\u001b[0m\u001b[0;34m(\u001b[0m\u001b[0mn\u001b[0m\u001b[0;34m)\u001b[0m\u001b[0;34m:\u001b[0m\u001b[0;34m\u001b[0m\u001b[0;34m\u001b[0m\u001b[0m\n\u001b[0;32m----> 9\u001b[0;31m     \u001b[0mcommand\u001b[0m \u001b[0;34m=\u001b[0m \u001b[0minput\u001b[0m\u001b[0;34m(\u001b[0m\u001b[0;34m)\u001b[0m\u001b[0;34m.\u001b[0m\u001b[0msplit\u001b[0m\u001b[0;34m(\u001b[0m\u001b[0;34m)\u001b[0m\u001b[0;34m\u001b[0m\u001b[0;34m\u001b[0m\u001b[0m\n\u001b[0m\u001b[1;32m     10\u001b[0m \u001b[0;34m\u001b[0m\u001b[0m\n\u001b[1;32m     11\u001b[0m     \u001b[0;32mif\u001b[0m \u001b[0mcommand\u001b[0m\u001b[0;34m[\u001b[0m\u001b[0;36m0\u001b[0m\u001b[0;34m]\u001b[0m \u001b[0;34m==\u001b[0m \u001b[0;34m'insert'\u001b[0m\u001b[0;34m:\u001b[0m\u001b[0;34m\u001b[0m\u001b[0;34m\u001b[0m\u001b[0m\n",
            "\u001b[0;32m/usr/local/lib/python3.10/dist-packages/ipykernel/kernelbase.py\u001b[0m in \u001b[0;36mraw_input\u001b[0;34m(self, prompt)\u001b[0m\n\u001b[1;32m    849\u001b[0m                 \u001b[0;34m\"raw_input was called, but this frontend does not support input requests.\"\u001b[0m\u001b[0;34m\u001b[0m\u001b[0;34m\u001b[0m\u001b[0m\n\u001b[1;32m    850\u001b[0m             )\n\u001b[0;32m--> 851\u001b[0;31m         return self._input_request(str(prompt),\n\u001b[0m\u001b[1;32m    852\u001b[0m             \u001b[0mself\u001b[0m\u001b[0;34m.\u001b[0m\u001b[0m_parent_ident\u001b[0m\u001b[0;34m,\u001b[0m\u001b[0;34m\u001b[0m\u001b[0;34m\u001b[0m\u001b[0m\n\u001b[1;32m    853\u001b[0m             \u001b[0mself\u001b[0m\u001b[0;34m.\u001b[0m\u001b[0m_parent_header\u001b[0m\u001b[0;34m,\u001b[0m\u001b[0;34m\u001b[0m\u001b[0;34m\u001b[0m\u001b[0m\n",
            "\u001b[0;32m/usr/local/lib/python3.10/dist-packages/ipykernel/kernelbase.py\u001b[0m in \u001b[0;36m_input_request\u001b[0;34m(self, prompt, ident, parent, password)\u001b[0m\n\u001b[1;32m    893\u001b[0m             \u001b[0;32mexcept\u001b[0m \u001b[0mKeyboardInterrupt\u001b[0m\u001b[0;34m:\u001b[0m\u001b[0;34m\u001b[0m\u001b[0;34m\u001b[0m\u001b[0m\n\u001b[1;32m    894\u001b[0m                 \u001b[0;31m# re-raise KeyboardInterrupt, to truncate traceback\u001b[0m\u001b[0;34m\u001b[0m\u001b[0;34m\u001b[0m\u001b[0m\n\u001b[0;32m--> 895\u001b[0;31m                 \u001b[0;32mraise\u001b[0m \u001b[0mKeyboardInterrupt\u001b[0m\u001b[0;34m(\u001b[0m\u001b[0;34m\"Interrupted by user\"\u001b[0m\u001b[0;34m)\u001b[0m \u001b[0;32mfrom\u001b[0m \u001b[0;32mNone\u001b[0m\u001b[0;34m\u001b[0m\u001b[0;34m\u001b[0m\u001b[0m\n\u001b[0m\u001b[1;32m    896\u001b[0m             \u001b[0;32mexcept\u001b[0m \u001b[0mException\u001b[0m \u001b[0;32mas\u001b[0m \u001b[0me\u001b[0m\u001b[0;34m:\u001b[0m\u001b[0;34m\u001b[0m\u001b[0;34m\u001b[0m\u001b[0m\n\u001b[1;32m    897\u001b[0m                 \u001b[0mself\u001b[0m\u001b[0;34m.\u001b[0m\u001b[0mlog\u001b[0m\u001b[0;34m.\u001b[0m\u001b[0mwarning\u001b[0m\u001b[0;34m(\u001b[0m\u001b[0;34m\"Invalid Message:\"\u001b[0m\u001b[0;34m,\u001b[0m \u001b[0mexc_info\u001b[0m\u001b[0;34m=\u001b[0m\u001b[0;32mTrue\u001b[0m\u001b[0;34m)\u001b[0m\u001b[0;34m\u001b[0m\u001b[0;34m\u001b[0m\u001b[0m\n",
            "\u001b[0;31mKeyboardInterrupt\u001b[0m: Interrupted by user"
          ]
        }
      ]
    },
    {
      "cell_type": "code",
      "source": [
        "command = input().split()\n"
      ],
      "metadata": {
        "colab": {
          "base_uri": "https://localhost:8080/"
        },
        "id": "JctAO6QWutkJ",
        "outputId": "1aff36a6-64fd-44a5-807e-191d9faf77b6"
      },
      "execution_count": null,
      "outputs": [
        {
          "name": "stdout",
          "output_type": "stream",
          "text": [
            "hello\n"
          ]
        }
      ]
    },
    {
      "cell_type": "code",
      "source": [
        "command"
      ],
      "metadata": {
        "colab": {
          "base_uri": "https://localhost:8080/"
        },
        "id": "IDcrZjRcvQaI",
        "outputId": "0c2f7368-eaaf-4966-885c-269d5c68917e"
      },
      "execution_count": null,
      "outputs": [
        {
          "output_type": "execute_result",
          "data": {
            "text/plain": [
              "['hello']"
            ]
          },
          "metadata": {},
          "execution_count": 2
        }
      ]
    },
    {
      "cell_type": "code",
      "source": [],
      "metadata": {
        "id": "CQHXWCE-wFW8"
      },
      "execution_count": null,
      "outputs": []
    }
  ]
}